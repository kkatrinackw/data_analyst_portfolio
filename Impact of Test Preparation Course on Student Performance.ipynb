{
 "cells": [
  {
   "cell_type": "markdown",
   "id": "73cbb4a5",
   "metadata": {},
   "source": [
    "# Impact of Test Preparation Course on Student Performance"
   ]
  },
  {
   "cell_type": "code",
   "execution_count": 3,
   "id": "510aafbc",
   "metadata": {},
   "outputs": [],
   "source": [
    "# Data Manipulation and Analysis\n",
    "import pandas as pd\n",
    "\n",
    "# Data Visualization\n",
    "import matplotlib.pyplot as plt\n",
    "import seaborn as sns"
   ]
  },
  {
   "cell_type": "markdown",
   "id": "15c66061",
   "metadata": {},
   "source": [
    "# Data Processing"
   ]
  },
  {
   "cell_type": "code",
   "execution_count": 4,
   "id": "d840408c",
   "metadata": {},
   "outputs": [
    {
     "name": "stdout",
     "output_type": "stream",
     "text": [
      "<class 'pandas.core.frame.DataFrame'>\n",
      "RangeIndex: 1000 entries, 0 to 999\n",
      "Data columns (total 8 columns):\n",
      " #   Column                       Non-Null Count  Dtype \n",
      "---  ------                       --------------  ----- \n",
      " 0   gender                       1000 non-null   object\n",
      " 1   race_ethnicity               1000 non-null   object\n",
      " 2   parental_level_of_education  1000 non-null   object\n",
      " 3   lunch                        1000 non-null   object\n",
      " 4   test_preparation_course      1000 non-null   object\n",
      " 5   math_score                   1000 non-null   int64 \n",
      " 6   reading_score                1000 non-null   int64 \n",
      " 7   writing_score                1000 non-null   int64 \n",
      "dtypes: int64(3), object(5)\n",
      "memory usage: 62.6+ KB\n"
     ]
    }
   ],
   "source": [
    "data = pd.read_csv(\"study_performance.csv\")\n",
    "data.info()"
   ]
  },
  {
   "cell_type": "code",
   "execution_count": 7,
   "id": "83d73b0d",
   "metadata": {},
   "outputs": [
    {
     "data": {
      "text/plain": [
       "0"
      ]
     },
     "execution_count": 7,
     "metadata": {},
     "output_type": "execute_result"
    }
   ],
   "source": [
    "# Check for duplicate entries\n",
    "data.duplicated().sum()"
   ]
  },
  {
   "cell_type": "code",
   "execution_count": 9,
   "id": "1857919c",
   "metadata": {},
   "outputs": [
    {
     "data": {
      "text/plain": [
       "gender                         0\n",
       "race_ethnicity                 0\n",
       "parental_level_of_education    0\n",
       "lunch                          0\n",
       "test_preparation_course        0\n",
       "math_score                     0\n",
       "reading_score                  0\n",
       "writing_score                  0\n",
       "dtype: int64"
      ]
     },
     "execution_count": 9,
     "metadata": {},
     "output_type": "execute_result"
    }
   ],
   "source": [
    "# Check for missing value (NA)\n",
    "data.isnull().sum()"
   ]
  },
  {
   "cell_type": "markdown",
   "id": "ffa02a6c",
   "metadata": {},
   "source": [
    "The dataset is free of duplicate entriies and missing value."
   ]
  },
  {
   "cell_type": "code",
   "execution_count": 5,
   "id": "b1c3e9b3",
   "metadata": {
    "scrolled": true
   },
   "outputs": [
    {
     "data": {
      "text/html": [
       "<div>\n",
       "<style scoped>\n",
       "    .dataframe tbody tr th:only-of-type {\n",
       "        vertical-align: middle;\n",
       "    }\n",
       "\n",
       "    .dataframe tbody tr th {\n",
       "        vertical-align: top;\n",
       "    }\n",
       "\n",
       "    .dataframe thead th {\n",
       "        text-align: right;\n",
       "    }\n",
       "</style>\n",
       "<table border=\"1\" class=\"dataframe\">\n",
       "  <thead>\n",
       "    <tr style=\"text-align: right;\">\n",
       "      <th></th>\n",
       "      <th>gender</th>\n",
       "      <th>race_ethnicity</th>\n",
       "      <th>parental_level_of_education</th>\n",
       "      <th>lunch</th>\n",
       "      <th>test_preparation_course</th>\n",
       "      <th>math_score</th>\n",
       "      <th>reading_score</th>\n",
       "      <th>writing_score</th>\n",
       "    </tr>\n",
       "  </thead>\n",
       "  <tbody>\n",
       "    <tr>\n",
       "      <th>0</th>\n",
       "      <td>female</td>\n",
       "      <td>group B</td>\n",
       "      <td>bachelor's degree</td>\n",
       "      <td>standard</td>\n",
       "      <td>none</td>\n",
       "      <td>72</td>\n",
       "      <td>72</td>\n",
       "      <td>74</td>\n",
       "    </tr>\n",
       "    <tr>\n",
       "      <th>1</th>\n",
       "      <td>female</td>\n",
       "      <td>group C</td>\n",
       "      <td>some college</td>\n",
       "      <td>standard</td>\n",
       "      <td>completed</td>\n",
       "      <td>69</td>\n",
       "      <td>90</td>\n",
       "      <td>88</td>\n",
       "    </tr>\n",
       "    <tr>\n",
       "      <th>2</th>\n",
       "      <td>female</td>\n",
       "      <td>group B</td>\n",
       "      <td>master's degree</td>\n",
       "      <td>standard</td>\n",
       "      <td>none</td>\n",
       "      <td>90</td>\n",
       "      <td>95</td>\n",
       "      <td>93</td>\n",
       "    </tr>\n",
       "    <tr>\n",
       "      <th>3</th>\n",
       "      <td>male</td>\n",
       "      <td>group A</td>\n",
       "      <td>associate's degree</td>\n",
       "      <td>free/reduced</td>\n",
       "      <td>none</td>\n",
       "      <td>47</td>\n",
       "      <td>57</td>\n",
       "      <td>44</td>\n",
       "    </tr>\n",
       "    <tr>\n",
       "      <th>4</th>\n",
       "      <td>male</td>\n",
       "      <td>group C</td>\n",
       "      <td>some college</td>\n",
       "      <td>standard</td>\n",
       "      <td>none</td>\n",
       "      <td>76</td>\n",
       "      <td>78</td>\n",
       "      <td>75</td>\n",
       "    </tr>\n",
       "  </tbody>\n",
       "</table>\n",
       "</div>"
      ],
      "text/plain": [
       "   gender race_ethnicity parental_level_of_education         lunch   \n",
       "0  female        group B           bachelor's degree      standard  \\\n",
       "1  female        group C                some college      standard   \n",
       "2  female        group B             master's degree      standard   \n",
       "3    male        group A          associate's degree  free/reduced   \n",
       "4    male        group C                some college      standard   \n",
       "\n",
       "  test_preparation_course  math_score  reading_score  writing_score  \n",
       "0                    none          72             72             74  \n",
       "1               completed          69             90             88  \n",
       "2                    none          90             95             93  \n",
       "3                    none          47             57             44  \n",
       "4                    none          76             78             75  "
      ]
     },
     "execution_count": 5,
     "metadata": {},
     "output_type": "execute_result"
    }
   ],
   "source": [
    "data.head()"
   ]
  },
  {
   "cell_type": "code",
   "execution_count": 13,
   "id": "6fdb1fce",
   "metadata": {},
   "outputs": [
    {
     "data": {
      "text/html": [
       "<div>\n",
       "<style scoped>\n",
       "    .dataframe tbody tr th:only-of-type {\n",
       "        vertical-align: middle;\n",
       "    }\n",
       "\n",
       "    .dataframe tbody tr th {\n",
       "        vertical-align: top;\n",
       "    }\n",
       "\n",
       "    .dataframe thead th {\n",
       "        text-align: right;\n",
       "    }\n",
       "</style>\n",
       "<table border=\"1\" class=\"dataframe\">\n",
       "  <thead>\n",
       "    <tr style=\"text-align: right;\">\n",
       "      <th></th>\n",
       "      <th>math_score</th>\n",
       "      <th>reading_score</th>\n",
       "      <th>writing_score</th>\n",
       "    </tr>\n",
       "  </thead>\n",
       "  <tbody>\n",
       "    <tr>\n",
       "      <th>count</th>\n",
       "      <td>1000.00000</td>\n",
       "      <td>1000.000000</td>\n",
       "      <td>1000.000000</td>\n",
       "    </tr>\n",
       "    <tr>\n",
       "      <th>mean</th>\n",
       "      <td>66.08900</td>\n",
       "      <td>69.169000</td>\n",
       "      <td>68.054000</td>\n",
       "    </tr>\n",
       "    <tr>\n",
       "      <th>std</th>\n",
       "      <td>15.16308</td>\n",
       "      <td>14.600192</td>\n",
       "      <td>15.195657</td>\n",
       "    </tr>\n",
       "    <tr>\n",
       "      <th>min</th>\n",
       "      <td>0.00000</td>\n",
       "      <td>17.000000</td>\n",
       "      <td>10.000000</td>\n",
       "    </tr>\n",
       "    <tr>\n",
       "      <th>25%</th>\n",
       "      <td>57.00000</td>\n",
       "      <td>59.000000</td>\n",
       "      <td>57.750000</td>\n",
       "    </tr>\n",
       "    <tr>\n",
       "      <th>50%</th>\n",
       "      <td>66.00000</td>\n",
       "      <td>70.000000</td>\n",
       "      <td>69.000000</td>\n",
       "    </tr>\n",
       "    <tr>\n",
       "      <th>75%</th>\n",
       "      <td>77.00000</td>\n",
       "      <td>79.000000</td>\n",
       "      <td>79.000000</td>\n",
       "    </tr>\n",
       "    <tr>\n",
       "      <th>max</th>\n",
       "      <td>100.00000</td>\n",
       "      <td>100.000000</td>\n",
       "      <td>100.000000</td>\n",
       "    </tr>\n",
       "  </tbody>\n",
       "</table>\n",
       "</div>"
      ],
      "text/plain": [
       "       math_score  reading_score  writing_score\n",
       "count  1000.00000    1000.000000    1000.000000\n",
       "mean     66.08900      69.169000      68.054000\n",
       "std      15.16308      14.600192      15.195657\n",
       "min       0.00000      17.000000      10.000000\n",
       "25%      57.00000      59.000000      57.750000\n",
       "50%      66.00000      70.000000      69.000000\n",
       "75%      77.00000      79.000000      79.000000\n",
       "max     100.00000     100.000000     100.000000"
      ]
     },
     "execution_count": 13,
     "metadata": {},
     "output_type": "execute_result"
    }
   ],
   "source": [
    "data.describe()"
   ]
  },
  {
   "cell_type": "code",
   "execution_count": 6,
   "id": "8db25d8e",
   "metadata": {},
   "outputs": [
    {
     "data": {
      "text/plain": [
       "(1000, 8)"
      ]
     },
     "execution_count": 6,
     "metadata": {},
     "output_type": "execute_result"
    }
   ],
   "source": [
    "data.shape"
   ]
  },
  {
   "cell_type": "markdown",
   "id": "e45945f1",
   "metadata": {},
   "source": [
    "After data processing, there are 1000 rows and 8 of columns in this dataset."
   ]
  },
  {
   "cell_type": "code",
   "execution_count": 7,
   "id": "4364ebee",
   "metadata": {},
   "outputs": [],
   "source": [
    "# Create a new column - total_score\n",
    "df_processed = data.copy()\n",
    "df_processed['total_scores'] = df_processed['math_score'] + df_processed['reading_score'] + df_processed['writing_score']"
   ]
  },
  {
   "cell_type": "code",
   "execution_count": 8,
   "id": "cbcbb6ae",
   "metadata": {},
   "outputs": [],
   "source": [
    "# Creaate a new column - pass_fail\n",
    "df_processed['pass_fail'] = df_processed['total_scores'].apply(lambda x: 'pass' if x >= 180 else 'fail')"
   ]
  },
  {
   "cell_type": "code",
   "execution_count": 302,
   "id": "483ec7d7",
   "metadata": {},
   "outputs": [
    {
     "data": {
      "text/html": [
       "<div>\n",
       "<style scoped>\n",
       "    .dataframe tbody tr th:only-of-type {\n",
       "        vertical-align: middle;\n",
       "    }\n",
       "\n",
       "    .dataframe tbody tr th {\n",
       "        vertical-align: top;\n",
       "    }\n",
       "\n",
       "    .dataframe thead th {\n",
       "        text-align: right;\n",
       "    }\n",
       "</style>\n",
       "<table border=\"1\" class=\"dataframe\">\n",
       "  <thead>\n",
       "    <tr style=\"text-align: right;\">\n",
       "      <th></th>\n",
       "      <th>math_score</th>\n",
       "      <th>reading_score</th>\n",
       "      <th>writing_score</th>\n",
       "      <th>total_scores</th>\n",
       "    </tr>\n",
       "  </thead>\n",
       "  <tbody>\n",
       "    <tr>\n",
       "      <th>count</th>\n",
       "      <td>1000.00000</td>\n",
       "      <td>1000.000000</td>\n",
       "      <td>1000.000000</td>\n",
       "      <td>1000.000000</td>\n",
       "    </tr>\n",
       "    <tr>\n",
       "      <th>mean</th>\n",
       "      <td>66.08900</td>\n",
       "      <td>69.169000</td>\n",
       "      <td>68.054000</td>\n",
       "      <td>203.312000</td>\n",
       "    </tr>\n",
       "    <tr>\n",
       "      <th>std</th>\n",
       "      <td>15.16308</td>\n",
       "      <td>14.600192</td>\n",
       "      <td>15.195657</td>\n",
       "      <td>42.771978</td>\n",
       "    </tr>\n",
       "    <tr>\n",
       "      <th>min</th>\n",
       "      <td>0.00000</td>\n",
       "      <td>17.000000</td>\n",
       "      <td>10.000000</td>\n",
       "      <td>27.000000</td>\n",
       "    </tr>\n",
       "    <tr>\n",
       "      <th>25%</th>\n",
       "      <td>57.00000</td>\n",
       "      <td>59.000000</td>\n",
       "      <td>57.750000</td>\n",
       "      <td>175.000000</td>\n",
       "    </tr>\n",
       "    <tr>\n",
       "      <th>50%</th>\n",
       "      <td>66.00000</td>\n",
       "      <td>70.000000</td>\n",
       "      <td>69.000000</td>\n",
       "      <td>205.000000</td>\n",
       "    </tr>\n",
       "    <tr>\n",
       "      <th>75%</th>\n",
       "      <td>77.00000</td>\n",
       "      <td>79.000000</td>\n",
       "      <td>79.000000</td>\n",
       "      <td>233.000000</td>\n",
       "    </tr>\n",
       "    <tr>\n",
       "      <th>max</th>\n",
       "      <td>100.00000</td>\n",
       "      <td>100.000000</td>\n",
       "      <td>100.000000</td>\n",
       "      <td>300.000000</td>\n",
       "    </tr>\n",
       "  </tbody>\n",
       "</table>\n",
       "</div>"
      ],
      "text/plain": [
       "       math_score  reading_score  writing_score  total_scores\n",
       "count  1000.00000    1000.000000    1000.000000   1000.000000\n",
       "mean     66.08900      69.169000      68.054000    203.312000\n",
       "std      15.16308      14.600192      15.195657     42.771978\n",
       "min       0.00000      17.000000      10.000000     27.000000\n",
       "25%      57.00000      59.000000      57.750000    175.000000\n",
       "50%      66.00000      70.000000      69.000000    205.000000\n",
       "75%      77.00000      79.000000      79.000000    233.000000\n",
       "max     100.00000     100.000000     100.000000    300.000000"
      ]
     },
     "execution_count": 302,
     "metadata": {},
     "output_type": "execute_result"
    }
   ],
   "source": [
    "df_processed.describe()"
   ]
  },
  {
   "cell_type": "code",
   "execution_count": 12,
   "id": "d7fd4789",
   "metadata": {},
   "outputs": [],
   "source": [
    "#df_processed.to_csv('students_processed.csv')"
   ]
  },
  {
   "cell_type": "markdown",
   "id": "71db7206",
   "metadata": {},
   "source": [
    "# Hypothesis Test"
   ]
  },
  {
   "cell_type": "markdown",
   "id": "a0f9dcbb",
   "metadata": {},
   "source": [
    "Null Hypothesis (H0): \n",
    "Students who participate in the test preparation course achieve no higher on the tests than those who do not participate"
   ]
  },
  {
   "cell_type": "markdown",
   "id": "6656e3ce",
   "metadata": {},
   "source": [
    "Alernative Hypothesis (H1): Students who participate in the test preparation course achieve higher on the tests than those who do not participate"
   ]
  },
  {
   "cell_type": "markdown",
   "id": "edc52962",
   "metadata": {},
   "source": [
    "Sample Size:"
   ]
  },
  {
   "cell_type": "code",
   "execution_count": 107,
   "id": "d841866b",
   "metadata": {},
   "outputs": [
    {
     "name": "stdout",
     "output_type": "stream",
     "text": [
      "      Status  Count\n",
      "0       none    642\n",
      "1  completed    358\n"
     ]
    }
   ],
   "source": [
    "participations_counts = df_processed['test_preparation_course'].value_counts()\n",
    "#print(participations_counts)\n",
    "participations_table = pd.DataFrame(participations_counts).reset_index()\n",
    "participations_table.columns = ['Status', 'Count']\n",
    "print(participations_table)"
   ]
  },
  {
   "cell_type": "code",
   "execution_count": 304,
   "id": "2b0530c5",
   "metadata": {},
   "outputs": [
    {
     "data": {
      "text/plain": [
       "Text(0.5, 1.0, 'Distribution of Students on Test Preparation Course')"
      ]
     },
     "execution_count": 304,
     "metadata": {},
     "output_type": "execute_result"
    },
    {
     "data": {
      "image/png": "[encoded data removed]",
      "text/plain": [
       "<Figure size 600x600 with 1 Axes>"
      ]
     },
     "metadata": {},
     "output_type": "display_data"
    }
   ],
   "source": [
    "plt.figure(figsize=(6, 6)) \n",
    "plt.pie(\n",
    "    participations_counts,\n",
    "    labels=participations_counts.index,\n",
    "    autopct=\"%1.1f%%\",\n",
    "    colors=['pink', 'lightblue'],\n",
    ")\n",
    "plt.title('Distribution of Students on Test Preparation Course')"
   ]
  },
  {
   "cell_type": "code",
   "execution_count": 9,
   "id": "fd120bf5",
   "metadata": {},
   "outputs": [
    {
     "data": {
      "text/plain": [
       "gender\n",
       "female    518\n",
       "male      482\n",
       "Name: count, dtype: int64"
      ]
     },
     "execution_count": 9,
     "metadata": {},
     "output_type": "execute_result"
    }
   ],
   "source": [
    "df_processed['gender'].value_counts()"
   ]
  },
  {
   "cell_type": "code",
   "execution_count": 10,
   "id": "390d87ef",
   "metadata": {},
   "outputs": [
    {
     "data": {
      "text/plain": [
       "race_ethnicity\n",
       "group C    319\n",
       "group D    262\n",
       "group B    190\n",
       "group E    140\n",
       "group A     89\n",
       "Name: count, dtype: int64"
      ]
     },
     "execution_count": 10,
     "metadata": {},
     "output_type": "execute_result"
    }
   ],
   "source": [
    "df_processed['race_ethnicity'].value_counts()"
   ]
  },
  {
   "cell_type": "markdown",
   "id": "8a0ce660",
   "metadata": {},
   "source": [
    "Observation:\n",
    "   - The study included 1000 students, with 642 participating in the test preparation course and 358 not participating."
   ]
  },
  {
   "cell_type": "markdown",
   "id": "c4fcda0f",
   "metadata": {},
   "source": [
    "# Data Exploration(EDA)"
   ]
  },
  {
   "cell_type": "markdown",
   "id": "e69d643c",
   "metadata": {},
   "source": [
    "# Evaulating the Effectiveness of Test Preparation Course"
   ]
  },
  {
   "cell_type": "markdown",
   "id": "f843df39",
   "metadata": {},
   "source": [
    "# 1. Overall Performance"
   ]
  },
  {
   "cell_type": "code",
   "execution_count": 110,
   "id": "d2a97384",
   "metadata": {},
   "outputs": [
    {
     "name": "stdout",
     "output_type": "stream",
     "text": [
      "We reject the null hypothesis since the p-value is less than the significance level(0.05).\n"
     ]
    }
   ],
   "source": [
    "from scipy import stats\n",
    "\n",
    "pre_course = df_processed['test_preparation_course']\n",
    "total_scores = df_processed['total_scores']\n",
    "\n",
    "t_statistic, p_value = stats.ttest_ind(total_scores[pre_course == \"completed\"],\n",
    "                                       total_scores[pre_course == \"none\"], \n",
    "                                       equal_var = False)\n",
    "\n",
    "if p_value < 0.05:\n",
    "  print(\"We reject the null hypothesis since the p-value is less than the significance level(0.05).\")\n",
    "else:\n",
    "  print(\"We fail to reject the null hypothesis.\")"
   ]
  },
  {
   "cell_type": "markdown",
   "id": "d70f7a6f",
   "metadata": {},
   "source": [
    "Observation:\n",
    "1. Overall Positive Impact: There is statistically significant evidence to reject the null hypothesis nd accept the alternative hypothesis, students who participate in the test preparation course achieve higher score on the tests. Taking the test preparation course has a positive impact on students' overall performance."
   ]
  },
  {
   "cell_type": "markdown",
   "id": "3ab37f29",
   "metadata": {},
   "source": [
    "# 2. Subject-Specific Impact"
   ]
  },
  {
   "cell_type": "markdown",
   "id": "0724b807",
   "metadata": {},
   "source": [
    "(a) Math:"
   ]
  },
  {
   "cell_type": "code",
   "execution_count": 236,
   "id": "fc539223",
   "metadata": {},
   "outputs": [
    {
     "name": "stdout",
     "output_type": "stream",
     "text": [
      "test_preparation_course\n",
      "completed    69.695531\n",
      "none         64.077882\n",
      "Name: math_score, dtype: float64\n",
      "The difference between completed students and those who don't is 5.617649106319291\n",
      "\n",
      "Students who completed the preparation course had a higher average score in math compared to those who don't. \n"
     ]
    },
    {
     "data": {
      "text/plain": [
       "<matplotlib.lines.Line2D at 0x12e5a8710>"
      ]
     },
     "execution_count": 236,
     "metadata": {},
     "output_type": "execute_result"
    },
    {
     "data": {
      "image/png": "[encoded data removed]",
      "text/plain": [
       "<Figure size 640x480 with 1 Axes>"
      ]
     },
     "metadata": {},
     "output_type": "display_data"
    }
   ],
   "source": [
    "math_score_mean = df_processed['math_score'].describe().loc['mean']\n",
    "participation_math = df_processed.groupby('test_preparation_course')['math_score'].mean()\n",
    "\n",
    "cal_math = participation_math.reset_index(name = 'count')\n",
    "score_difference_math =  cal_math.iloc[0]['count'] - cal_math.iloc[1]['count']\n",
    "print(\"The difference between completed students and those who don't is\", score_difference_math)\n",
    "\n",
    "if score_difference_math > 0:\n",
    "    print(\"\\nStudents who completed the preparation course had a higher average score in math compared to those who don't. \")\n",
    "else:\n",
    "    print(\"\\nA potentially negative effect of the course on math's average score\")\n",
    "\n",
    "participation_math.plot(kind = 'bar',\n",
    "                       color = ['lightblue', 'pink'])\n",
    "plt.xlabel(\"Test Preparation Course\")\n",
    "plt.ylabel(\"Average Math Score\")\n",
    "plt.title(\"Average Math Score by Test Preparation Course Participation\")\n",
    "plt.xticks(rotation = 360) \n",
    "\n",
    "plt.axhline(math_score_mean, \n",
    "            color = 'red', \n",
    "            linestyle = '--')"
   ]
  },
  {
   "cell_type": "markdown",
   "id": "138e4e90",
   "metadata": {},
   "source": [
    "(b) Reading:"
   ]
  },
  {
   "cell_type": "code",
   "execution_count": 237,
   "id": "498b1228",
   "metadata": {
    "scrolled": false
   },
   "outputs": [
    {
     "name": "stdout",
     "output_type": "stream",
     "text": [
      "test_preparation_course\n",
      "completed    73.893855\n",
      "none         66.534268\n",
      "Name: reading_score, dtype: float64\n",
      "The difference between completed students and those who don't is 7.359586835830754\n",
      "\n",
      "Students who completed the preparation course had a higher average score in reading compared to those who don't. \n"
     ]
    },
    {
     "data": {
      "text/plain": [
       "<matplotlib.lines.Line2D at 0x12e285c90>"
      ]
     },
     "execution_count": 237,
     "metadata": {},
     "output_type": "execute_result"
    },
    {
     "data": {
      "image/png": "[encoded data removed]",
      "text/plain": [
       "<Figure size 640x480 with 1 Axes>"
      ]
     },
     "metadata": {},
     "output_type": "display_data"
    }
   ],
   "source": [
    "reading_score_mean = df_processed['reading_score'].describe().loc['mean']\n",
    "print(participation_reading)\n",
    "participation_reading = df_processed.groupby('test_preparation_course')['reading_score'].mean()\n",
    "\n",
    "cal_reading = participation_reading.reset_index(name = 'count')\n",
    "score_difference_reading =  cal_reading.iloc[0]['count'] - cal_reading.iloc[1]['count']\n",
    "print(\"The difference between completed students and those who don't is\", score_difference_reading)\n",
    "\n",
    "if score_difference_reading > 0:\n",
    "    print(\"\\nStudents who completed the preparation course had a higher average score in reading compared to those who don't. \")\n",
    "else:\n",
    "    print(\"\\nA potentially negative effect of the course on reading's average score.\")\n",
    "\n",
    "participation_reading.plot(kind = 'bar',\n",
    "                           color = ['lightblue', 'pink'])\n",
    "\n",
    "plt.xlabel(\"Test Preparation Course\")\n",
    "plt.ylabel(\"Average Reading Score\")\n",
    "plt.title(\"Average Reading Score by Test Preparation Course Participation\")\n",
    "plt.xticks(rotation = 360) \n",
    "\n",
    "plt.axhline(reading_score_mean, \n",
    "            color = 'red', \n",
    "            linestyle = '--')"
   ]
  },
  {
   "cell_type": "markdown",
   "id": "0490a0dd",
   "metadata": {},
   "source": [
    "(c) Writing: "
   ]
  },
  {
   "cell_type": "code",
   "execution_count": 69,
   "id": "64df51ed",
   "metadata": {},
   "outputs": [
    {
     "name": "stdout",
     "output_type": "stream",
     "text": [
      "The difference between completed students and those who don't is 9.914321516211558\n",
      "\n",
      "Students who completed the preparation course had a higher average score in writing compared to those who don't. \n"
     ]
    },
    {
     "data": {
      "text/plain": [
       "<matplotlib.lines.Line2D at 0x1255e0850>"
      ]
     },
     "execution_count": 69,
     "metadata": {},
     "output_type": "execute_result"
    },
    {
     "data": {
      "image/png": "[encoded data removed]",
      "text/plain": [
       "<Figure size 640x480 with 1 Axes>"
      ]
     },
     "metadata": {},
     "output_type": "display_data"
    }
   ],
   "source": [
    "writing_score_mean = df_processed['writing_score'].describe().loc['mean']\n",
    "#print(writing_score_mean)\n",
    "participation_writing = df_processed.groupby('test_preparation_course')['writing_score'].mean()\n",
    "#print(participation_writing)\n",
    "cal_writing = participation_writing.reset_index(name = 'count')\n",
    "score_difference_writing =  cal_writing.iloc[0]['count'] - cal_writing.iloc[1]['count']\n",
    "print(\"The difference between completed students and those who don't is\", score_difference_writing)\n",
    "\n",
    "if score_difference_writing > 0:\n",
    "    print(\"\\nStudents who completed the preparation course had a higher average score in writing compared to those who don't. \")\n",
    "else:\n",
    "    print(\"\\nA potentially negative effect of the course on writing's average score.\")\n",
    "\n",
    "participation_writing.plot(kind = 'bar',\n",
    "                           color = ['lightblue', 'pink'])\n",
    "\n",
    "plt.xlabel(\"Test Preparation Course\")\n",
    "plt.ylabel(\"Average Writing Score\")\n",
    "plt.title(\"Average Writing Score by Test Preparation Course Participation\")\n",
    "plt.xticks(rotation = 360) \n",
    "\n",
    "plt.axhline(writing_score_mean, \n",
    "            color = 'red', \n",
    "            linestyle = '--')"
   ]
  },
  {
   "cell_type": "markdown",
   "id": "a14499fd",
   "metadata": {},
   "source": [
    "Observations:\n",
    "1. Higher Scores with Participation: The average score appears higher for students who participated in the preparation course for each test.\n",
    "2. Writing with Highest Difference: The average scores between participation groups indicate that the test preparation course has had the greatest impact on the writing test."
   ]
  },
  {
   "cell_type": "markdown",
   "id": "f882dd4f",
   "metadata": {},
   "source": [
    "# 3. Pass Rate"
   ]
  },
  {
   "cell_type": "code",
   "execution_count": 86,
   "id": "20aecc9e",
   "metadata": {},
   "outputs": [
    {
     "data": {
      "text/plain": [
       "pass_fail\n",
       "pass    715\n",
       "fail    285\n",
       "Name: count, dtype: int64"
      ]
     },
     "execution_count": 86,
     "metadata": {},
     "output_type": "execute_result"
    }
   ],
   "source": [
    "df_processed['pass_fail'].value_counts()"
   ]
  },
  {
   "cell_type": "code",
   "execution_count": 265,
   "id": "027ff89d",
   "metadata": {},
   "outputs": [
    {
     "name": "stdout",
     "output_type": "stream",
     "text": [
      "pass_fail                fail  pass\n",
      "test_preparation_course            \n",
      "completed                  60   298\n",
      "none                      225   417\n"
     ]
    },
    {
     "data": {
      "text/plain": [
       "(array([  0.,  50., 100., 150., 200., 250., 300., 350., 400., 450.]),\n",
       " [Text(0.0, 0, '0'),\n",
       "  Text(50.0, 0, '50'),\n",
       "  Text(100.0, 0, '100'),\n",
       "  Text(150.0, 0, '150'),\n",
       "  Text(200.0, 0, '200'),\n",
       "  Text(250.0, 0, '250'),\n",
       "  Text(300.0, 0, '300'),\n",
       "  Text(350.0, 0, '350'),\n",
       "  Text(400.0, 0, '400'),\n",
       "  Text(450.0, 0, '450')])"
      ]
     },
     "execution_count": 265,
     "metadata": {},
     "output_type": "execute_result"
    },
    {
     "data": {
      "image/png": "[encoded data removed]",
      "text/plain": [
       "<Figure size 640x480 with 1 Axes>"
      ]
     },
     "metadata": {},
     "output_type": "display_data"
    }
   ],
   "source": [
    "pass_rate = df_processed.groupby('test_preparation_course')['pass_fail'].value_counts().unstack()\n",
    "print(pass_rate)\n",
    "\n",
    "pass_rate.plot(\n",
    "    kind = 'barh',\n",
    "    color = ['plum', 'mediumseagreen'])\n",
    "\n",
    "\n",
    "plt.xlabel('Count of Students')\n",
    "plt.ylabel('Test Preparation Course Attendance')\n",
    "plt.title('Pass Rates of Students by Test Preparation Course')\n",
    "\n",
    "### Arrange bars from highest to lowest \n",
    "plt.gca().invert_yaxis()\n",
    "\n",
    "plt.grid(axis = 'x', linestyle = '--', alpha = 0.7)\n",
    "plt.legend(title = 'Outcome')\n",
    "plt.xticks(rotation = 360) "
   ]
  },
  {
   "cell_type": "markdown",
   "id": "1ac076d6",
   "metadata": {},
   "source": [
    "Observations:\n",
    "1. Higher Pass Rate: Students who completed the course have a higher pass rate (298/358 = 83%) compared to those who did not (298/642 = 46%). This suggests that the course is helping students achieve the passing score more frequently."
   ]
  },
  {
   "cell_type": "markdown",
   "id": "22c85728",
   "metadata": {},
   "source": [
    "While the primary focus of this project is to examine the effectiveness of the test preparation course in improving student performance, the potential influence of two additional factors - the lunch status and parental education level also have been investigated. This exploration aims to understand if these factors have an independent impact on student achievement, alongside the impact of the test preparation course.\n"
   ]
  },
  {
   "cell_type": "markdown",
   "id": "a2db5969",
   "metadata": {},
   "source": [
    "## Parental Education's Impact on Student Pass Rates"
   ]
  },
  {
   "cell_type": "code",
   "execution_count": 113,
   "id": "721bf98a",
   "metadata": {},
   "outputs": [
    {
     "data": {
      "text/plain": [
       "parental_level_of_education\n",
       "some college          226\n",
       "associate's degree    222\n",
       "high school           196\n",
       "some high school      179\n",
       "bachelor's degree     118\n",
       "master's degree        59\n",
       "Name: count, dtype: int64"
      ]
     },
     "execution_count": 113,
     "metadata": {},
     "output_type": "execute_result"
    }
   ],
   "source": [
    "df_processed['parental_level_of_education'].value_counts()"
   ]
  },
  {
   "cell_type": "code",
   "execution_count": 213,
   "id": "c31ad902",
   "metadata": {},
   "outputs": [
    {
     "data": {
      "text/html": [
       "<div>\n",
       "<style scoped>\n",
       "    .dataframe tbody tr th:only-of-type {\n",
       "        vertical-align: middle;\n",
       "    }\n",
       "\n",
       "    .dataframe tbody tr th {\n",
       "        vertical-align: top;\n",
       "    }\n",
       "\n",
       "    .dataframe thead th {\n",
       "        text-align: right;\n",
       "    }\n",
       "</style>\n",
       "<table border=\"1\" class=\"dataframe\">\n",
       "  <thead>\n",
       "    <tr style=\"text-align: right;\">\n",
       "      <th>pass_fail</th>\n",
       "      <th>parental_level_of_education</th>\n",
       "      <th>test_preparation_course</th>\n",
       "      <th>fail</th>\n",
       "      <th>pass</th>\n",
       "      <th>pass_percentage</th>\n",
       "    </tr>\n",
       "  </thead>\n",
       "  <tbody>\n",
       "    <tr>\n",
       "      <th>11</th>\n",
       "      <td>some high school</td>\n",
       "      <td>none</td>\n",
       "      <td>45</td>\n",
       "      <td>57</td>\n",
       "      <td>0.558824</td>\n",
       "    </tr>\n",
       "    <tr>\n",
       "      <th>5</th>\n",
       "      <td>high school</td>\n",
       "      <td>none</td>\n",
       "      <td>61</td>\n",
       "      <td>79</td>\n",
       "      <td>0.564286</td>\n",
       "    </tr>\n",
       "    <tr>\n",
       "      <th>1</th>\n",
       "      <td>associate's degree</td>\n",
       "      <td>none</td>\n",
       "      <td>49</td>\n",
       "      <td>91</td>\n",
       "      <td>0.650000</td>\n",
       "    </tr>\n",
       "    <tr>\n",
       "      <th>9</th>\n",
       "      <td>some college</td>\n",
       "      <td>none</td>\n",
       "      <td>46</td>\n",
       "      <td>103</td>\n",
       "      <td>0.691275</td>\n",
       "    </tr>\n",
       "    <tr>\n",
       "      <th>4</th>\n",
       "      <td>high school</td>\n",
       "      <td>completed</td>\n",
       "      <td>15</td>\n",
       "      <td>41</td>\n",
       "      <td>0.732143</td>\n",
       "    </tr>\n",
       "    <tr>\n",
       "      <th>10</th>\n",
       "      <td>some high school</td>\n",
       "      <td>completed</td>\n",
       "      <td>19</td>\n",
       "      <td>58</td>\n",
       "      <td>0.753247</td>\n",
       "    </tr>\n",
       "    <tr>\n",
       "      <th>3</th>\n",
       "      <td>bachelor's degree</td>\n",
       "      <td>none</td>\n",
       "      <td>16</td>\n",
       "      <td>56</td>\n",
       "      <td>0.777778</td>\n",
       "    </tr>\n",
       "    <tr>\n",
       "      <th>7</th>\n",
       "      <td>master's degree</td>\n",
       "      <td>none</td>\n",
       "      <td>8</td>\n",
       "      <td>31</td>\n",
       "      <td>0.794872</td>\n",
       "    </tr>\n",
       "    <tr>\n",
       "      <th>0</th>\n",
       "      <td>associate's degree</td>\n",
       "      <td>completed</td>\n",
       "      <td>10</td>\n",
       "      <td>72</td>\n",
       "      <td>0.878049</td>\n",
       "    </tr>\n",
       "    <tr>\n",
       "      <th>8</th>\n",
       "      <td>some college</td>\n",
       "      <td>completed</td>\n",
       "      <td>9</td>\n",
       "      <td>68</td>\n",
       "      <td>0.883117</td>\n",
       "    </tr>\n",
       "    <tr>\n",
       "      <th>2</th>\n",
       "      <td>bachelor's degree</td>\n",
       "      <td>completed</td>\n",
       "      <td>5</td>\n",
       "      <td>41</td>\n",
       "      <td>0.891304</td>\n",
       "    </tr>\n",
       "    <tr>\n",
       "      <th>6</th>\n",
       "      <td>master's degree</td>\n",
       "      <td>completed</td>\n",
       "      <td>2</td>\n",
       "      <td>18</td>\n",
       "      <td>0.900000</td>\n",
       "    </tr>\n",
       "  </tbody>\n",
       "</table>\n",
       "</div>"
      ],
      "text/plain": [
       "pass_fail parental_level_of_education test_preparation_course  fail  pass   \n",
       "11                   some high school                    none    45    57  \\\n",
       "5                         high school                    none    61    79   \n",
       "1                  associate's degree                    none    49    91   \n",
       "9                        some college                    none    46   103   \n",
       "4                         high school               completed    15    41   \n",
       "10                   some high school               completed    19    58   \n",
       "3                   bachelor's degree                    none    16    56   \n",
       "7                     master's degree                    none     8    31   \n",
       "0                  associate's degree               completed    10    72   \n",
       "8                        some college               completed     9    68   \n",
       "2                   bachelor's degree               completed     5    41   \n",
       "6                     master's degree               completed     2    18   \n",
       "\n",
       "pass_fail  pass_percentage  \n",
       "11                0.558824  \n",
       "5                 0.564286  \n",
       "1                 0.650000  \n",
       "9                 0.691275  \n",
       "4                 0.732143  \n",
       "10                0.753247  \n",
       "3                 0.777778  \n",
       "7                 0.794872  \n",
       "0                 0.878049  \n",
       "8                 0.883117  \n",
       "2                 0.891304  \n",
       "6                 0.900000  "
      ]
     },
     "execution_count": 213,
     "metadata": {},
     "output_type": "execute_result"
    }
   ],
   "source": [
    "df_processed.groupby(['parental_level_of_education', 'test_preparation_course', 'pass_fail']).size().unstack().reset_index()\n",
    "pass_percet_df['pass_percentage'] = pass_percet_df['pass'] / (pass_percet_df['pass'] + pass_percet_df['fail'])\n",
    "pass_percet_df.sort_values(by = ['pass_percentage'])"
   ]
  },
  {
   "cell_type": "code",
   "execution_count": 210,
   "id": "ce88ec90",
   "metadata": {},
   "outputs": [
    {
     "data": {
      "text/plain": [
       "<matplotlib.legend.Legend at 0x12e0009d0>"
      ]
     },
     "execution_count": 210,
     "metadata": {},
     "output_type": "execute_result"
    },
    {
     "data": {
      "image/png": "[encoded data removed]",
      "text/plain": [
       "<Figure size 1000x600 with 1 Axes>"
      ]
     },
     "metadata": {},
     "output_type": "display_data"
    }
   ],
   "source": [
    "pass_percet_df = df_processed.groupby(['parental_level_of_education', 'test_preparation_course', 'pass_fail']).size().unstack().reset_index()\n",
    "\n",
    "pass_percet_df['pass_percentage'] = pass_percet_df['pass'] / (pass_percet_df['fail'] + pass_percet_df['pass'])\n",
    "pass_percet_df.sort_values(by = ['pass_percentage'])\n",
    "\n",
    "completed_data = pass_percet_df[pass_percet_df['test_preparation_course'] == 'completed']\n",
    "none_data = pass_percet_df[pass_percet_df['test_preparation_course'] == 'none']\n",
    "\n",
    "x_completed = completed_data['parental_level_of_education']\n",
    "y_completed = completed_data['pass_percentage']\n",
    "x_none = none_data['parental_level_of_education']\n",
    "y_none = none_data['pass_percentage']\n",
    "\n",
    "plt.figure(figsize=(10, 6))\n",
    "plt.plot(x_completed, y_completed, label = 'Completed')\n",
    "plt.plot(x_none, y_none, label = 'None')\n",
    "plt.xlabel('Parental Education Level')\n",
    "plt.ylabel('Pass Percentage')\n",
    "plt.title('Pass Percentage by Parental Education Level and Test Preparation Course Completion')\n",
    "\n",
    "plt.legend()"
   ]
  },
  {
   "cell_type": "markdown",
   "id": "0ea33be9",
   "metadata": {},
   "source": [
    "Observations:\n",
    "1. Parental education level has a strong impact on student's pass rate even though they completed the preparation course or not\n",
    "2. Students with parents holding master's degrees have the highest pass rate, regardless of their participation in the preparation course"
   ]
  },
  {
   "cell_type": "markdown",
   "id": "a9df6cb3",
   "metadata": {},
   "source": [
    "# Lunch Status Impact on Student Pass Rates"
   ]
  },
  {
   "cell_type": "code",
   "execution_count": 228,
   "id": "dac531db",
   "metadata": {},
   "outputs": [
    {
     "data": {
      "text/plain": [
       "(array([0, 1]), [Text(0, 0, 'free/reduced'), Text(1, 0, 'standard')])"
      ]
     },
     "execution_count": 228,
     "metadata": {},
     "output_type": "execute_result"
    },
    {
     "data": {
      "image/png": "[encoded data removed]",
      "text/plain": [
       "<Figure size 640x480 with 1 Axes>"
      ]
     },
     "metadata": {},
     "output_type": "display_data"
    }
   ],
   "source": [
    "lunch_df = df_processed.groupby('lunch')['pass_fail'].value_counts().unstack()\n",
    "\n",
    "lunch_df.plot(\n",
    "    kind = 'bar',\n",
    "    color = ['tomato', 'darkturquoise'])\n",
    "\n",
    "plt.xlabel('Lunch Status')\n",
    "plt.ylabel('Count of Students')\n",
    "plt.title('Distribution of Pass/Fail Rates by Lunch Status')\n",
    "\n",
    "\n",
    "plt.grid(axis = 'y', linestyle = '--', alpha = 0.7)\n",
    "\n",
    "plt.xticks(rotation = 360)"
   ]
  },
  {
   "cell_type": "code",
   "execution_count": 235,
   "id": "246af2db",
   "metadata": {},
   "outputs": [
    {
     "data": {
      "text/html": [
       "<div>\n",
       "<style scoped>\n",
       "    .dataframe tbody tr th:only-of-type {\n",
       "        vertical-align: middle;\n",
       "    }\n",
       "\n",
       "    .dataframe tbody tr th {\n",
       "        vertical-align: top;\n",
       "    }\n",
       "\n",
       "    .dataframe thead th {\n",
       "        text-align: right;\n",
       "    }\n",
       "</style>\n",
       "<table border=\"1\" class=\"dataframe\">\n",
       "  <thead>\n",
       "    <tr style=\"text-align: right;\">\n",
       "      <th></th>\n",
       "      <th>gender</th>\n",
       "      <th>race_ethnicity</th>\n",
       "      <th>parental_level_of_education</th>\n",
       "      <th>lunch</th>\n",
       "      <th>test_preparation_course</th>\n",
       "      <th>math_score</th>\n",
       "      <th>reading_score</th>\n",
       "      <th>writing_score</th>\n",
       "      <th>total_scores</th>\n",
       "      <th>pass_fail</th>\n",
       "    </tr>\n",
       "  </thead>\n",
       "  <tbody>\n",
       "    <tr>\n",
       "      <th>916</th>\n",
       "      <td>male</td>\n",
       "      <td>group E</td>\n",
       "      <td>bachelor's degree</td>\n",
       "      <td>standard</td>\n",
       "      <td>completed</td>\n",
       "      <td>100</td>\n",
       "      <td>100</td>\n",
       "      <td>100</td>\n",
       "      <td>300</td>\n",
       "      <td>pass</td>\n",
       "    </tr>\n",
       "    <tr>\n",
       "      <th>458</th>\n",
       "      <td>female</td>\n",
       "      <td>group E</td>\n",
       "      <td>bachelor's degree</td>\n",
       "      <td>standard</td>\n",
       "      <td>none</td>\n",
       "      <td>100</td>\n",
       "      <td>100</td>\n",
       "      <td>100</td>\n",
       "      <td>300</td>\n",
       "      <td>pass</td>\n",
       "    </tr>\n",
       "    <tr>\n",
       "      <th>962</th>\n",
       "      <td>female</td>\n",
       "      <td>group E</td>\n",
       "      <td>associate's degree</td>\n",
       "      <td>standard</td>\n",
       "      <td>none</td>\n",
       "      <td>100</td>\n",
       "      <td>100</td>\n",
       "      <td>100</td>\n",
       "      <td>300</td>\n",
       "      <td>pass</td>\n",
       "    </tr>\n",
       "    <tr>\n",
       "      <th>114</th>\n",
       "      <td>female</td>\n",
       "      <td>group E</td>\n",
       "      <td>bachelor's degree</td>\n",
       "      <td>standard</td>\n",
       "      <td>completed</td>\n",
       "      <td>99</td>\n",
       "      <td>100</td>\n",
       "      <td>100</td>\n",
       "      <td>299</td>\n",
       "      <td>pass</td>\n",
       "    </tr>\n",
       "    <tr>\n",
       "      <th>179</th>\n",
       "      <td>female</td>\n",
       "      <td>group D</td>\n",
       "      <td>some high school</td>\n",
       "      <td>standard</td>\n",
       "      <td>completed</td>\n",
       "      <td>97</td>\n",
       "      <td>100</td>\n",
       "      <td>100</td>\n",
       "      <td>297</td>\n",
       "      <td>pass</td>\n",
       "    </tr>\n",
       "    <tr>\n",
       "      <th>712</th>\n",
       "      <td>female</td>\n",
       "      <td>group D</td>\n",
       "      <td>some college</td>\n",
       "      <td>standard</td>\n",
       "      <td>none</td>\n",
       "      <td>98</td>\n",
       "      <td>100</td>\n",
       "      <td>99</td>\n",
       "      <td>297</td>\n",
       "      <td>pass</td>\n",
       "    </tr>\n",
       "    <tr>\n",
       "      <th>165</th>\n",
       "      <td>female</td>\n",
       "      <td>group C</td>\n",
       "      <td>bachelor's degree</td>\n",
       "      <td>standard</td>\n",
       "      <td>completed</td>\n",
       "      <td>96</td>\n",
       "      <td>100</td>\n",
       "      <td>100</td>\n",
       "      <td>296</td>\n",
       "      <td>pass</td>\n",
       "    </tr>\n",
       "    <tr>\n",
       "      <th>625</th>\n",
       "      <td>male</td>\n",
       "      <td>group D</td>\n",
       "      <td>some college</td>\n",
       "      <td>standard</td>\n",
       "      <td>completed</td>\n",
       "      <td>100</td>\n",
       "      <td>97</td>\n",
       "      <td>99</td>\n",
       "      <td>296</td>\n",
       "      <td>pass</td>\n",
       "    </tr>\n",
       "    <tr>\n",
       "      <th>903</th>\n",
       "      <td>female</td>\n",
       "      <td>group D</td>\n",
       "      <td>bachelor's degree</td>\n",
       "      <td>free/reduced</td>\n",
       "      <td>completed</td>\n",
       "      <td>93</td>\n",
       "      <td>100</td>\n",
       "      <td>100</td>\n",
       "      <td>293</td>\n",
       "      <td>pass</td>\n",
       "    </tr>\n",
       "    <tr>\n",
       "      <th>149</th>\n",
       "      <td>male</td>\n",
       "      <td>group E</td>\n",
       "      <td>associate's degree</td>\n",
       "      <td>free/reduced</td>\n",
       "      <td>completed</td>\n",
       "      <td>100</td>\n",
       "      <td>100</td>\n",
       "      <td>93</td>\n",
       "      <td>293</td>\n",
       "      <td>pass</td>\n",
       "    </tr>\n",
       "  </tbody>\n",
       "</table>\n",
       "</div>"
      ],
      "text/plain": [
       "     gender race_ethnicity parental_level_of_education         lunch   \n",
       "916    male        group E           bachelor's degree      standard  \\\n",
       "458  female        group E           bachelor's degree      standard   \n",
       "962  female        group E          associate's degree      standard   \n",
       "114  female        group E           bachelor's degree      standard   \n",
       "179  female        group D            some high school      standard   \n",
       "712  female        group D                some college      standard   \n",
       "165  female        group C           bachelor's degree      standard   \n",
       "625    male        group D                some college      standard   \n",
       "903  female        group D           bachelor's degree  free/reduced   \n",
       "149    male        group E          associate's degree  free/reduced   \n",
       "\n",
       "    test_preparation_course  math_score  reading_score  writing_score   \n",
       "916               completed         100            100            100  \\\n",
       "458                    none         100            100            100   \n",
       "962                    none         100            100            100   \n",
       "114               completed          99            100            100   \n",
       "179               completed          97            100            100   \n",
       "712                    none          98            100             99   \n",
       "165               completed          96            100            100   \n",
       "625               completed         100             97             99   \n",
       "903               completed          93            100            100   \n",
       "149               completed         100            100             93   \n",
       "\n",
       "     total_scores pass_fail  \n",
       "916           300      pass  \n",
       "458           300      pass  \n",
       "962           300      pass  \n",
       "114           299      pass  \n",
       "179           297      pass  \n",
       "712           297      pass  \n",
       "165           296      pass  \n",
       "625           296      pass  \n",
       "903           293      pass  \n",
       "149           293      pass  "
      ]
     },
     "execution_count": 235,
     "metadata": {},
     "output_type": "execute_result"
    }
   ],
   "source": [
    "descending_scores_df = df_processed.sort_values(by = ['total_scores'], ascending=(False))\n",
    "descending_scores_df.head(10)"
   ]
  },
  {
   "cell_type": "markdown",
   "id": "2f38f99c",
   "metadata": {},
   "source": [
    "Observations:\n",
    "1. There is a difference in pass rates between students who have lunch regularly and those who don't. Students who have lunch regularly have a higher pass rate (80%) compared to those who don't.\n",
    "2. In the top 10 highest total scores students, 8 out of the 10 highest-scoring students have lunch regularly."
   ]
  },
  {
   "cell_type": "markdown",
   "id": "496e77d2",
   "metadata": {},
   "source": [
    "# Conclusion:"
   ]
  },
  {
   "cell_type": "markdown",
   "id": "b64a0886",
   "metadata": {},
   "source": [
    "- Current academic support shows positive impact: Students who participate in the test preparation course have a higher passing rate, especially in the writing test.\n",
    "- Room for improvement:\n",
    "    - Low participation: Only 36% of students participate in the course.\n",
    "    - Minimal impact on math: The average score difference between participation groups suggests the course has the least impact on math scores."
   ]
  },
  {
   "cell_type": "markdown",
   "id": "bf866627",
   "metadata": {},
   "source": [
    "# Suggestions:"
   ]
  },
  {
   "cell_type": "markdown",
   "id": "06669c56",
   "metadata": {},
   "source": [
    "1. Mandatory Participants: Students who fail a subject are required to participate in the corresponding preparation course\n",
    "2. Increase Awareness: Increase awareness of the course benefits and encourage enrollment\n",
    "3. Subject-Specific Options: Offer subject-specific preparation course beyond math, reading, and writing, which allows students to target their specific needs\n",
    "4. Bridge the Gap: Prioritize encouraging students with lower scores and parental education backgrounds to participate in preparation course\n",
    "5. Monitor and Evaluate: Continuously monitor and evaluate the effectiveness of the revised program to ensure it meets student needs"
   ]
  }
 ],
 "metadata": {
  "kernelspec": {
   "display_name": "Python 3 (ipykernel)",
   "language": "python",
   "name": "python3"
  },
  "language_info": {
   "codemirror_mode": {
    "name": "ipython",
    "version": 3
   },
   "file_extension": ".py",
   "mimetype": "text/x-python",
   "name": "python",
   "nbconvert_exporter": "python",
   "pygments_lexer": "ipython3",
   "version": "3.11.5"
  }
 },
 "nbformat": 4,
 "nbformat_minor": 5
}
