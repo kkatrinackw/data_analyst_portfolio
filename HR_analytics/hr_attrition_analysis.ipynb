{
 "cells": [
  {
   "cell_type": "code",
   "execution_count": 1,
   "id": "68155bff",
   "metadata": {},
   "outputs": [],
   "source": [
    "import pandas as pd\n",
    "import numpy as np\n",
    "import matplotlib.pyplot as plt\n",
    "import seaborn as sns"
   ]
  },
  {
   "cell_type": "code",
   "execution_count": 4,
   "id": "cfcf848c",
   "metadata": {},
   "outputs": [
    {
     "name": "stdout",
     "output_type": "stream",
     "text": [
      "<class 'pandas.core.frame.DataFrame'>\n",
      "RangeIndex: 11991 entries, 0 to 11990\n",
      "Data columns (total 11 columns):\n",
      " #   Column                    Non-Null Count  Dtype  \n",
      "---  ------                    --------------  -----  \n",
      " 0   Unnamed: 0                11991 non-null  int64  \n",
      " 1   satisfaction_level        11991 non-null  float64\n",
      " 2   last_performance_rating   11991 non-null  float64\n",
      " 3   number_of_projects        11991 non-null  int64  \n",
      " 4   avg_monthly_hours         11991 non-null  int64  \n",
      " 5   years_at_company          11991 non-null  int64  \n",
      " 6   had_work_accident         11991 non-null  int64  \n",
      " 7   has_left_company          11991 non-null  int64  \n",
      " 8   promoted_in_last_5_years  11991 non-null  int64  \n",
      " 9   Department                11991 non-null  object \n",
      " 10  salary_level              11991 non-null  object \n",
      "dtypes: float64(2), int64(7), object(2)\n",
      "memory usage: 1.0+ MB\n"
     ]
    },
    {
     "data": {
      "text/plain": [
       "0"
      ]
     },
     "execution_count": 4,
     "metadata": {},
     "output_type": "execute_result"
    }
   ],
   "source": [
    "# import data\n",
    "hr = pd.read_csv('hr_processed.csv')\n",
    "hr.info()\n",
    "hr.describe()"
   ]
  },
  {
   "cell_type": "code",
   "execution_count": 5,
   "id": "9b03130d",
   "metadata": {},
   "outputs": [
    {
     "data": {
      "text/plain": [
       "0"
      ]
     },
     "execution_count": 5,
     "metadata": {},
     "output_type": "execute_result"
    }
   ],
   "source": [
    "# check duplicates\n",
    "hr.duplicated().sum()"
   ]
  },
  {
   "cell_type": "code",
   "execution_count": 13,
   "id": "ab0d164a",
   "metadata": {},
   "outputs": [
    {
     "name": "stdout",
     "output_type": "stream",
     "text": [
      "has_left_company\n",
      "0    10000\n",
      "1     1991\n",
      "Name: count, dtype: int64\n"
     ]
    },
    {
     "data": {
      "text/plain": [
       "Text(0.5, 1.0, 'Employment Status')"
      ]
     },
     "execution_count": 13,
     "metadata": {},
     "output_type": "execute_result"
    },
    {
     "data": {
      "image/png": "[encoded data removed]",
      "text/plain": [
       "<Figure size 640x480 with 1 Axes>"
      ]
     },
     "metadata": {},
     "output_type": "display_data"
    }
   ],
   "source": [
    "# proportion of stay VS. left\n",
    "employment_count = hr[\"has_left_company\"].value_counts()\n",
    "print(count)\n",
    "\n",
    "\n",
    "plt.pie(employment_count, \n",
    "        labels = [\"Stay\", \"Leave\"], \n",
    "        autopct='%1.1f%%')\n",
    "plt.title(\"Employment Status\")"
   ]
  }
 ],
 "metadata": {
  "kernelspec": {
   "display_name": "Python 3 (ipykernel)",
   "language": "python",
   "name": "python3"
  },
  "language_info": {
   "codemirror_mode": {
    "name": "ipython",
    "version": 3
   },
   "file_extension": ".py",
   "mimetype": "text/x-python",
   "name": "python",
   "nbconvert_exporter": "python",
   "pygments_lexer": "ipython3",
   "version": "3.11.5"
  }
 },
 "nbformat": 4,
 "nbformat_minor": 5
}
